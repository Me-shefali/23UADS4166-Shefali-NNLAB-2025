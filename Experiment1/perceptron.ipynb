{
 "cells": [
  {
   "cell_type": "code",
   "execution_count": 1,
   "metadata": {},
   "outputs": [],
   "source": [
    "import numpy as np\n",
    "\n",
    "class Perceptron:\n",
    "    def __init__(self, input_size, learning_rate=0.01, epochs=100):\n",
    "        self.weights = np.zeros(input_size + 1)  # Including bias\n",
    "        self.learning_rate = learning_rate\n",
    "        self.epochs = epochs\n",
    "\n",
    "    def activation(self, x):\n",
    "        return 1 if x >= 0 else 0  # Step activation function\n",
    "\n",
    "    def predict(self, x):\n",
    "        x = np.insert(x, 0, 1)  # Adding bias term\n",
    "        return self.activation(np.dot(x, self.weights))\n",
    "\n",
    "    def train(self, X, y):\n",
    "        for epoch in range(self.epochs):\n",
    "            print(\"epoch: \",epoch+1)\n",
    "            print(\"weights: \",self.weights)\n",
    "            total_error = 0\n",
    "            for i in range(len(X)):\n",
    "                x_i = np.insert(X[i], 0, 1)  # Adding bias term\n",
    "                prediction = self.activation(np.dot(x_i, self.weights))\n",
    "                print(\"Prediction: \",prediction)\n",
    "                error = y[i] - prediction\n",
    "                self.weights += self.learning_rate * error * x_i\n",
    "                total_error += abs(error)\n",
    "            if total_error == 0:\n",
    "                break  # Stop early if no errors\n",
    "\n",
    "    def evaluate(self, X):\n",
    "        return [self.predict(x) for x in X]"
   ]
  },
  {
   "cell_type": "code",
   "execution_count": 2,
   "metadata": {},
   "outputs": [
    {
     "name": "stdout",
     "output_type": "stream",
     "text": [
      "epoch:  1\n",
      "weights:  [0. 0. 0.]\n",
      "Prediction:  1\n",
      "Prediction:  0\n",
      "Prediction:  0\n",
      "Prediction:  0\n",
      "epoch:  2\n",
      "weights:  [0.  0.1 0.1]\n",
      "Prediction:  1\n",
      "Prediction:  1\n",
      "Prediction:  0\n",
      "Prediction:  0\n",
      "epoch:  3\n",
      "weights:  [-0.1  0.2  0.1]\n",
      "Prediction:  0\n",
      "Prediction:  1\n",
      "Prediction:  1\n",
      "Prediction:  0\n",
      "epoch:  4\n",
      "weights:  [-0.2  0.2  0.1]\n",
      "Prediction:  0\n",
      "Prediction:  0\n",
      "Prediction:  0\n",
      "Prediction:  1\n",
      "Trained weights: [-0.2  0.2  0.1]\n",
      "Predictions: [0, 0, 0, 1]\n"
     ]
    }
   ],
   "source": [
    "if __name__ == \"__main__\":\n",
    "    X = np.array([\n",
    "        [0, 0],\n",
    "        [0, 1],\n",
    "        [1, 0],\n",
    "        [1, 1]\n",
    "    ])\n",
    "    y = np.array([0, 0, 0, 1])  # AND output\n",
    "\n",
    "    perceptron = Perceptron(input_size=2, learning_rate=0.1, epochs=100)\n",
    "    perceptron.train(X, y)\n",
    "\n",
    "    print(\"Trained weights:\", perceptron.weights)\n",
    "    print(\"Predictions:\", perceptron.evaluate(X))"
   ]
  },
  {
   "cell_type": "code",
   "execution_count": null,
   "metadata": {},
   "outputs": [],
   "source": []
  }
 ],
 "metadata": {
  "kernelspec": {
   "display_name": "Python 3",
   "language": "python",
   "name": "python3"
  },
  "language_info": {
   "codemirror_mode": {
    "name": "ipython",
    "version": 3
   },
   "file_extension": ".py",
   "mimetype": "text/x-python",
   "name": "python",
   "nbconvert_exporter": "python",
   "pygments_lexer": "ipython3",
   "version": "3.11.4"
  }
 },
 "nbformat": 4,
 "nbformat_minor": 2
}
